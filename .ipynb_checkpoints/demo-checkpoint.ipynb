{
 "cells": [
  {
   "cell_type": "markdown",
   "metadata": {},
   "source": [
    "# Demo"
   ]
  },
  {
   "cell_type": "code",
   "execution_count": 1,
   "metadata": {},
   "outputs": [],
   "source": [
    "import numpy as np\n",
    "from testfunction import *\n",
    "from chromosome import Chromosome"
   ]
  },
  {
   "cell_type": "code",
   "execution_count": 246,
   "metadata": {},
   "outputs": [],
   "source": [
    "class Chromosome():\n",
    "    def __init__(self, values, random_state=1):\n",
    "        self.values = np.array(values)\n",
    "        self.dim = len(values)\n",
    "        np.random.seed(random_state)\n",
    "    \n",
    "    def fit(self, f_obj):\n",
    "        self.fitness = f_obj(self.values)\n",
    "    \n",
    "    def mutate(self, method='swap', mutation_prob=0.5):\n",
    "        if method == 'swap':\n",
    "            idx1, idx2 = np.random.randint(self.dim, size=2)\n",
    "            self.values[[idx1, idx2]] = self.values[[idx2, idx1]]\n",
    "    \n",
    "    def crossover(self, maternal_chromosome, method='one-point'):\n",
    "        if method == 'one-point':\n",
    "            point = int(np.random.randint(self.dim, size = 1))\n",
    "            self.values[:point] = maternal_chromosome.values[:point].copy()\n",
    "            \n",
    "        elif method == 'two-point':\n",
    "            r1, r2 = np.random.randint(self.dim, size = 2)\n",
    "            point1 = min(r1,r2)\n",
    "            point2 = max(r1,r2)\n",
    "            \n",
    "            self.values[:point1] = maternal_chromosome.values[:point1].copy()\n",
    "            self.values[point2:] = maternal_chromosome.values[point2:].copy()\n",
    "        \n",
    "        #fix this\n",
    "        elif method == 'uniform':\n",
    "            r = np.random.randint(2, size = self.dim)\n",
    "            for i in range(self.dim):\n",
    "                if r[i] == 1:\n",
    "                    self.values[i] = maternal_chromosome.values[i].copy()\n",
    "        return self\n",
    "    \n",
    "class Population():\n",
    "    def __init__(self, random_state=1):\n",
    "        self.best_chromosome = None\n",
    "        self.best_fitness = None\n",
    "        np.random.seed(random_state)\n",
    "        \n",
    "    def initialize(self, size, boundary):\n",
    "        population = []\n",
    "        for i in range(size):\n",
    "            values = []\n",
    "            for b in boundary:\n",
    "                if b[2] == 'int':\n",
    "                    val = np.random.randint(b[0], b[1]+1)\n",
    "                elif b[2] == 'float':\n",
    "                    val = np.random.uniform(b[0], b[1]) \n",
    "                values.append(val)\n",
    "            initial_chromosome = Chromosome(values, random_state = i)\n",
    "            population.append(initial_chromosome)\n",
    "        self.history_population = population\n",
    "        self.pop_size = size\n",
    "    \n",
    "    def get_fitness(self, f_obj):\n",
    "        self.history_fitness = []\n",
    "        for x in self.history_population:\n",
    "            x.fit(f_obj)\n",
    "            self.history_fitness.append(x.fitness)\n",
    "    \n",
    "    def get_best(self, objective='minimum'):\n",
    "        if objective == 'minimum':\n",
    "            idx_best = np.argmin(self.history_fitness)\n",
    "        elif objective == 'maximum':\n",
    "            idx_best = np.argmax(self.history_fitness)\n",
    "        self.best_fitness = self.history_fitness[idx_best]\n",
    "        self.best_chromosome = self.history_population[idx_best]\n",
    "    \n",
    "    def selection(self, method):\n",
    "        if method == 'roulette':\n",
    "            #return selection proba for each chromosome (list)\n",
    "            self.selection_method = 'roulette'\n",
    "            sum_of_fitness = sum(self.history_fitness)\n",
    "            self.roulette_proba = np.array(self.history_fitness)/sum_of_fitness\n",
    "            \n",
    "        elif method == 'tournament':\n",
    "            #fixed tournament size = half of total population\n",
    "            self.selection_method == 'tournament'\n",
    "            pairs = []\n",
    "            tournament_size = round(self.pop_size/4)\n",
    "            for i in range(pop_size):\n",
    "                pool_idx = np.random.randint(0, len(self.history_population), size=tournament_size)\n",
    "                pool_fitness = np.array(self.history_fitness)[[pool_idx]]\n",
    "                best_two = pool_fitness.argsort()[:2]\n",
    "                idx = pool_idx[best_two]\n",
    "                couple = self.history_population[idx[0]], self.history_population[idx[1]]\n",
    "                pairs.append(couple)\n",
    "            \n",
    "    def crossover(self, method):\n",
    "        if self.selection_method == 'roulette':\n",
    "            self.offspring_population = []\n",
    "            cdf_proba = np.array([self.roulette_proba[:i+1].sum() for i in range(self.roulette_proba.shape[0])])\n",
    "            for i in range(self.pop_size):\n",
    "                r1 = np.random.rand()\n",
    "                r2 = np.random.rand()\n",
    "                try:\n",
    "                    idx1 = np.digitize(r1, cdf_proba, right=False)\n",
    "                    idx2 = np.digitize(r2, cdf_proba, right=False)\n",
    "                except:\n",
    "                    idx1 = 0\n",
    "                    idx2 = 1\n",
    "    \n",
    "                paternal = self.history_population[idx1]\n",
    "                maternal = self.history_population[idx2]\n",
    "                offspring = paternal.crossover(maternal, method=method)\n",
    "                self.offspring_population.append(offspring)\n",
    "                \n",
    "        elif self.selection_method == 'tournament':\n",
    "            self.offspring_population = []\n",
    "            for pair in pairs:\n",
    "                paternal = pair[0]\n",
    "                maternal = pari[1]\n",
    "                offspring = paternal.crossover(maternal, method=method)\n",
    "                self.offspring_population.append(offspring)\n",
    "              \n",
    "    def mutation(self, method, prob, boundary):\n",
    "        def cut(x, bound):\n",
    "            if x < bound[0]:\n",
    "                x = bound[0]\n",
    "            elif x > bound[1]:\n",
    "                x = bound[1]\n",
    "            if bound[2] == 'float':\n",
    "                x = float(x)\n",
    "            elif bound[2] == 'int':\n",
    "                x = int(x)\n",
    "            return x\n",
    "        \n",
    "        for offspring in self.offspring_population:\n",
    "            offspring.mutate(method=method, mutation_prob=prob)\n",
    "            for i, bound in enumerate(boundary):\n",
    "                cut(offspring.values[i], bound)\n",
    "    \n",
    "    def replacement(self, method, frac, obj_func):\n",
    "        if method == 'partial':\n",
    "            num_keep = int(frac*self.pop_size)\n",
    "            offspring_fitness = np.array([obj_func(x.values) for x in self.offspring_population])\n",
    "            idx_offspring_keep = offspring_fitness.argsort()[:num_keep]\n",
    "            offspring_keep = np.array(self.offspring_population)[idx_offspring_keep]\n",
    "            idx_keep = np.array(self.history_fitness).argsort()[:num_keep]\n",
    "            pop_keep = np.array(self.history_population)[idx_keep]\n",
    "            self.history_population = np.append(pop_keep, offspring_keep).tolist()\n",
    "\n",
    "class GeneticAlgorithm:\n",
    "    def __init__(self, size, selection, crossover, mutation, replacement, crossover_prob, mutation_prob, replacement_frac, n_iter, boundary, objective_function, objective, random_state, save_history):\n",
    "        self.size = size\n",
    "        self.n_iter = n_iter\n",
    "        self.boundary = boundary\n",
    "        self.objective_function = objective_function\n",
    "        self.objective = objective\n",
    "        self.selection_method = selection\n",
    "        self.crossover_method = crossover\n",
    "        self.mutation_method = mutation\n",
    "        self.replacement_method = replacement\n",
    "        self.crossover_prob = crossover_prob\n",
    "        self.mutation_prob = mutation_prob\n",
    "        self.replacement_frac = replacement_frac\n",
    "        self.random_state = random_state\n",
    "        self.save_history = save_history\n",
    "    \n",
    "    def simulate(self):\n",
    "        population = Population(random_state = self.random_state)\n",
    "        population.initialize(self.size, self.boundary)\n",
    "        population.get_fitness(self.objective_function)\n",
    "        population.get_best(objective='minimum')\n",
    "        \n",
    "        if self.save_history:\n",
    "            self.history = []\n",
    "            self.history.append(population.history_population)\n",
    "            \n",
    "        iteration = 0\n",
    "        print('iteration: ', iteration, ' | best chromosome: ', population.best_chromosome.values, ' | best fitness: ', population.best_fitness)\n",
    "        \n",
    "        while iteration < self.n_iter:\n",
    "            iteration += 1\n",
    "            population.selection(method=self.selection_method)\n",
    "            population.crossover(method=self.crossover_method)\n",
    "            population.mutation(method=self.mutation_method, prob=self.mutation_prob, boundary=self.boundary)\n",
    "            population.replacement(method=self.replacement_method, frac=self.replacement_frac, obj_func=self.objective_function)\n",
    "            population.get_fitness(self.objective_function)\n",
    "            population.get_best(objective='minimum')\n",
    "            if self.save_history:\n",
    "                self.history.append(population.history_population)\n",
    "            print('iteration: ', iteration, ' | best chromosome: ', population.best_chromosome.values, ' | best fitness: ', population.best_fitness)"
   ]
  },
  {
   "cell_type": "code",
   "execution_count": 255,
   "metadata": {},
   "outputs": [],
   "source": [
    "GA = GeneticAlgorithm(size=500, \n",
    "                      selection='roulette', \n",
    "                      crossover='one-point', \n",
    "                      mutation='swap', \n",
    "                      replacement='partial', \n",
    "                      crossover_prob=0.7, \n",
    "                      mutation_prob=0.5, \n",
    "                      replacement_frac=0.5,\n",
    "                      n_iter=100, \n",
    "                      boundary=[(0,1,'float'),(-2,2,'float'),(-5,5,'int')], \n",
    "                      objective_function=ackley, \n",
    "                      random_state=1,\n",
    "                      objective='minimum',\n",
    "                      save_history=True)"
   ]
  },
  {
   "cell_type": "code",
   "execution_count": 256,
   "metadata": {},
   "outputs": [
    {
     "name": "stdout",
     "output_type": "stream",
     "text": [
      "iteration:  0  | best chromosome:  [0.01037415 0.00749837 1.        ]  | best fitness:  0.040563006306538085\n",
      "iteration:  1  | best chromosome:  [0.01037415 0.00749837 1.        ]  | best fitness:  0.040563006306538085\n",
      "iteration:  2  | best chromosome:  [0.01037415 0.00749837 1.        ]  | best fitness:  0.040563006306538085\n",
      "iteration:  3  | best chromosome:  [0.01037415 0.00749837 1.        ]  | best fitness:  0.040563006306538085\n",
      "iteration:  4  | best chromosome:  [0.      0.      0.76641]  | best fitness:  0.0\n",
      "iteration:  5  | best chromosome:  [0.      0.      0.76641]  | best fitness:  0.0\n",
      "iteration:  6  | best chromosome:  [0.      0.      0.76641]  | best fitness:  0.0\n",
      "iteration:  7  | best chromosome:  [0.      0.      0.76641]  | best fitness:  0.0\n",
      "iteration:  8  | best chromosome:  [0.      0.      0.76641]  | best fitness:  0.0\n",
      "iteration:  9  | best chromosome:  [0.      0.      0.76641]  | best fitness:  0.0\n",
      "iteration:  10  | best chromosome:  [0.      0.      0.76641]  | best fitness:  0.0\n",
      "iteration:  11  | best chromosome:  [0.      0.      0.76641]  | best fitness:  0.0\n",
      "iteration:  12  | best chromosome:  [0.      0.      0.76641]  | best fitness:  0.0\n"
     ]
    },
    {
     "name": "stderr",
     "output_type": "stream",
     "text": [
      "<ipython-input-246-4a59be100117>:76: RuntimeWarning: invalid value encountered in true_divide\n",
      "  self.roulette_proba = np.array(self.history_fitness)/sum_of_fitness\n"
     ]
    },
    {
     "ename": "IndexError",
     "evalue": "list index out of range",
     "output_type": "error",
     "traceback": [
      "\u001b[1;31m---------------------------------------------------------------------------\u001b[0m",
      "\u001b[1;31mIndexError\u001b[0m                                Traceback (most recent call last)",
      "\u001b[1;32m<ipython-input-256-3a97458d9679>\u001b[0m in \u001b[0;36m<module>\u001b[1;34m\u001b[0m\n\u001b[1;32m----> 1\u001b[1;33m \u001b[0mGA\u001b[0m\u001b[1;33m.\u001b[0m\u001b[0msimulate\u001b[0m\u001b[1;33m(\u001b[0m\u001b[1;33m)\u001b[0m\u001b[1;33m\u001b[0m\u001b[1;33m\u001b[0m\u001b[0m\n\u001b[0m",
      "\u001b[1;32m<ipython-input-246-4a59be100117>\u001b[0m in \u001b[0;36msimulate\u001b[1;34m(self)\u001b[0m\n\u001b[0;32m    176\u001b[0m             \u001b[0miteration\u001b[0m \u001b[1;33m+=\u001b[0m \u001b[1;36m1\u001b[0m\u001b[1;33m\u001b[0m\u001b[1;33m\u001b[0m\u001b[0m\n\u001b[0;32m    177\u001b[0m             \u001b[0mpopulation\u001b[0m\u001b[1;33m.\u001b[0m\u001b[0mselection\u001b[0m\u001b[1;33m(\u001b[0m\u001b[0mmethod\u001b[0m\u001b[1;33m=\u001b[0m\u001b[0mself\u001b[0m\u001b[1;33m.\u001b[0m\u001b[0mselection_method\u001b[0m\u001b[1;33m)\u001b[0m\u001b[1;33m\u001b[0m\u001b[1;33m\u001b[0m\u001b[0m\n\u001b[1;32m--> 178\u001b[1;33m             \u001b[0mpopulation\u001b[0m\u001b[1;33m.\u001b[0m\u001b[0mcrossover\u001b[0m\u001b[1;33m(\u001b[0m\u001b[0mmethod\u001b[0m\u001b[1;33m=\u001b[0m\u001b[0mself\u001b[0m\u001b[1;33m.\u001b[0m\u001b[0mcrossover_method\u001b[0m\u001b[1;33m)\u001b[0m\u001b[1;33m\u001b[0m\u001b[1;33m\u001b[0m\u001b[0m\n\u001b[0m\u001b[0;32m    179\u001b[0m             \u001b[0mpopulation\u001b[0m\u001b[1;33m.\u001b[0m\u001b[0mmutation\u001b[0m\u001b[1;33m(\u001b[0m\u001b[0mmethod\u001b[0m\u001b[1;33m=\u001b[0m\u001b[0mself\u001b[0m\u001b[1;33m.\u001b[0m\u001b[0mmutation_method\u001b[0m\u001b[1;33m,\u001b[0m \u001b[0mprob\u001b[0m\u001b[1;33m=\u001b[0m\u001b[0mself\u001b[0m\u001b[1;33m.\u001b[0m\u001b[0mmutation_prob\u001b[0m\u001b[1;33m,\u001b[0m \u001b[0mboundary\u001b[0m\u001b[1;33m=\u001b[0m\u001b[0mself\u001b[0m\u001b[1;33m.\u001b[0m\u001b[0mboundary\u001b[0m\u001b[1;33m)\u001b[0m\u001b[1;33m\u001b[0m\u001b[1;33m\u001b[0m\u001b[0m\n\u001b[0;32m    180\u001b[0m             \u001b[0mpopulation\u001b[0m\u001b[1;33m.\u001b[0m\u001b[0mreplacement\u001b[0m\u001b[1;33m(\u001b[0m\u001b[0mmethod\u001b[0m\u001b[1;33m=\u001b[0m\u001b[0mself\u001b[0m\u001b[1;33m.\u001b[0m\u001b[0mreplacement_method\u001b[0m\u001b[1;33m,\u001b[0m \u001b[0mfrac\u001b[0m\u001b[1;33m=\u001b[0m\u001b[0mself\u001b[0m\u001b[1;33m.\u001b[0m\u001b[0mreplacement_frac\u001b[0m\u001b[1;33m,\u001b[0m \u001b[0mobj_func\u001b[0m\u001b[1;33m=\u001b[0m\u001b[0mself\u001b[0m\u001b[1;33m.\u001b[0m\u001b[0mobjective_function\u001b[0m\u001b[1;33m)\u001b[0m\u001b[1;33m\u001b[0m\u001b[1;33m\u001b[0m\u001b[0m\n",
      "\u001b[1;32m<ipython-input-246-4a59be100117>\u001b[0m in \u001b[0;36mcrossover\u001b[1;34m(self, method)\u001b[0m\n\u001b[0;32m    103\u001b[0m                     \u001b[0midx2\u001b[0m \u001b[1;33m=\u001b[0m \u001b[1;36m1\u001b[0m\u001b[1;33m\u001b[0m\u001b[1;33m\u001b[0m\u001b[0m\n\u001b[0;32m    104\u001b[0m \u001b[1;33m\u001b[0m\u001b[0m\n\u001b[1;32m--> 105\u001b[1;33m                 \u001b[0mpaternal\u001b[0m \u001b[1;33m=\u001b[0m \u001b[0mself\u001b[0m\u001b[1;33m.\u001b[0m\u001b[0mhistory_population\u001b[0m\u001b[1;33m[\u001b[0m\u001b[0midx1\u001b[0m\u001b[1;33m]\u001b[0m\u001b[1;33m\u001b[0m\u001b[1;33m\u001b[0m\u001b[0m\n\u001b[0m\u001b[0;32m    106\u001b[0m                 \u001b[0mmaternal\u001b[0m \u001b[1;33m=\u001b[0m \u001b[0mself\u001b[0m\u001b[1;33m.\u001b[0m\u001b[0mhistory_population\u001b[0m\u001b[1;33m[\u001b[0m\u001b[0midx2\u001b[0m\u001b[1;33m]\u001b[0m\u001b[1;33m\u001b[0m\u001b[1;33m\u001b[0m\u001b[0m\n\u001b[0;32m    107\u001b[0m                 \u001b[0moffspring\u001b[0m \u001b[1;33m=\u001b[0m \u001b[0mpaternal\u001b[0m\u001b[1;33m.\u001b[0m\u001b[0mcrossover\u001b[0m\u001b[1;33m(\u001b[0m\u001b[0mmaternal\u001b[0m\u001b[1;33m,\u001b[0m \u001b[0mmethod\u001b[0m\u001b[1;33m=\u001b[0m\u001b[0mmethod\u001b[0m\u001b[1;33m)\u001b[0m\u001b[1;33m\u001b[0m\u001b[1;33m\u001b[0m\u001b[0m\n",
      "\u001b[1;31mIndexError\u001b[0m: list index out of range"
     ]
    }
   ],
   "source": [
    "GA.simulate()"
   ]
  },
  {
   "cell_type": "code",
   "execution_count": 163,
   "metadata": {},
   "outputs": [
    {
     "data": {
      "text/plain": [
       "array([0])"
      ]
     },
     "execution_count": 163,
     "metadata": {},
     "output_type": "execute_result"
    }
   ],
   "source": [
    "np.random.randint(5.0, size=1)"
   ]
  },
  {
   "cell_type": "code",
   "execution_count": null,
   "metadata": {},
   "outputs": [],
   "source": []
  },
  {
   "cell_type": "code",
   "execution_count": 31,
   "metadata": {},
   "outputs": [],
   "source": [
    "import numpy as np\n",
    "p = Population()\n",
    "p.initialize(size=10, boundary = [(0,1,'float'),(0,1,'float'),(0,1,'float')])"
   ]
  },
  {
   "cell_type": "code",
   "execution_count": 32,
   "metadata": {},
   "outputs": [],
   "source": [
    "from testfunction import *\n",
    "p.get_fitness(ackley)"
   ]
  },
  {
   "cell_type": "code",
   "execution_count": 19,
   "metadata": {},
   "outputs": [],
   "source": [
    "sum_of_fitness = sum(p.history_fitness)\n",
    "roulette_proba = np.array(p.history_fitness)/sum_of_fitness"
   ]
  },
  {
   "cell_type": "code",
   "execution_count": 70,
   "metadata": {},
   "outputs": [
    {
     "data": {
      "text/plain": [
       "array([0.10917633, 0.22354602, 0.33272235, 0.4050925 , 0.51946052,\n",
       "       0.63533897, 0.72485841, 0.82738158, 0.90534942, 1.        ])"
      ]
     },
     "execution_count": 70,
     "metadata": {},
     "output_type": "execute_result"
    }
   ],
   "source": [
    "cdf_proba"
   ]
  },
  {
   "cell_type": "code",
   "execution_count": 87,
   "metadata": {},
   "outputs": [
    {
     "data": {
      "text/plain": [
       "9"
      ]
     },
     "execution_count": 87,
     "metadata": {},
     "output_type": "execute_result"
    }
   ],
   "source": [
    "cdf_proba\n"
   ]
  },
  {
   "cell_type": "code",
   "execution_count": 93,
   "metadata": {},
   "outputs": [
    {
     "data": {
      "text/plain": [
       "['d', 'e']"
      ]
     },
     "execution_count": 93,
     "metadata": {},
     "output_type": "execute_result"
    }
   ],
   "source": [
    "l = ['c','d','e']\n",
    "np.array(l)[[1,2]].tolist()"
   ]
  },
  {
   "cell_type": "code",
   "execution_count": 88,
   "metadata": {},
   "outputs": [
    {
     "data": {
      "text/plain": [
       "array([4, 3, 5])"
      ]
     },
     "execution_count": 88,
     "metadata": {},
     "output_type": "execute_result"
    }
   ],
   "source": [
    "pool_idx = np.array([1,2,3,4,5])\n",
    "arr = np.array([10,20,30,30,20])\n",
    "idx = arr.argsort()[-3:][::-1]\n",
    "pool_idx[idx]"
   ]
  },
  {
   "cell_type": "code",
   "execution_count": null,
   "metadata": {},
   "outputs": [],
   "source": [
    "tournament_size = len(self.history_population)/2\n",
    "            pool_idx = np.random.randint(0, self.history_population, size=tournament_size)\n",
    "            pool_fitness = np.array(self.history_population)[[pool_idx]]\n",
    "            tuple_idx_fitness = zip(pool_idx, )"
   ]
  },
  {
   "cell_type": "code",
   "execution_count": null,
   "metadata": {},
   "outputs": [],
   "source": []
  },
  {
   "cell_type": "code",
   "execution_count": 22,
   "metadata": {},
   "outputs": [
    {
     "ename": "IndexError",
     "evalue": "tuple index out of range",
     "output_type": "error",
     "traceback": [
      "\u001b[1;31m---------------------------------------------------------------------------\u001b[0m",
      "\u001b[1;31mIndexError\u001b[0m                                Traceback (most recent call last)",
      "\u001b[1;32m<ipython-input-22-e90514b65236>\u001b[0m in \u001b[0;36m<module>\u001b[1;34m\u001b[0m\n\u001b[0;32m      6\u001b[0m \u001b[1;32mfrom\u001b[0m \u001b[0moperator\u001b[0m \u001b[1;32mimport\u001b[0m \u001b[0mitemgetter\u001b[0m\u001b[1;33m\u001b[0m\u001b[1;33m\u001b[0m\u001b[0m\n\u001b[0;32m      7\u001b[0m \u001b[1;33m\u001b[0m\u001b[0m\n\u001b[1;32m----> 8\u001b[1;33m \u001b[0mmax\u001b[0m\u001b[1;33m(\u001b[0m\u001b[0mlis\u001b[0m\u001b[1;33m,\u001b[0m\u001b[0mkey\u001b[0m\u001b[1;33m=\u001b[0m\u001b[0mitemgetter\u001b[0m\u001b[1;33m(\u001b[0m\u001b[1;36m1\u001b[0m\u001b[1;33m,\u001b[0m\u001b[1;36m2\u001b[0m\u001b[1;33m)\u001b[0m\u001b[1;33m)\u001b[0m\u001b[1;33m[\u001b[0m\u001b[1;36m0\u001b[0m\u001b[1;33m]\u001b[0m    \u001b[1;31m#faster solution\u001b[0m\u001b[1;33m\u001b[0m\u001b[1;33m\u001b[0m\u001b[0m\n\u001b[0m",
      "\u001b[1;31mIndexError\u001b[0m: tuple index out of range"
     ]
    }
   ],
   "source": [
    "a = np.array([10,20,30,40,50])[[1,2]]\n",
    "b = np.array([1,4,9,16,25])[[1,2]]\n",
    "\n",
    "lis = list(zip(b,a))\n",
    "\n",
    "from operator import itemgetter\n",
    "\n",
    "max(lis,key=itemgetter(1))[0]    #faster solution"
   ]
  },
  {
   "cell_type": "code",
   "execution_count": 7,
   "metadata": {},
   "outputs": [
    {
     "ename": "TypeError",
     "evalue": "list indices must be integers or slices, not list",
     "output_type": "error",
     "traceback": [
      "\u001b[1;31m---------------------------------------------------------------------------\u001b[0m",
      "\u001b[1;31mTypeError\u001b[0m                                 Traceback (most recent call last)",
      "\u001b[1;32m<ipython-input-7-dca8ba0cbeec>\u001b[0m in \u001b[0;36m<module>\u001b[1;34m\u001b[0m\n\u001b[0;32m      1\u001b[0m \u001b[0mlist_of_c\u001b[0m \u001b[1;33m=\u001b[0m \u001b[1;33m[\u001b[0m\u001b[1;36m10\u001b[0m\u001b[1;33m,\u001b[0m\u001b[1;36m20\u001b[0m\u001b[1;33m,\u001b[0m\u001b[1;36m30\u001b[0m\u001b[1;33m,\u001b[0m\u001b[1;36m40\u001b[0m\u001b[1;33m,\u001b[0m\u001b[1;36m50\u001b[0m\u001b[1;33m]\u001b[0m\u001b[1;33m\u001b[0m\u001b[1;33m\u001b[0m\u001b[0m\n\u001b[1;32m----> 2\u001b[1;33m \u001b[0mlist_of_c\u001b[0m\u001b[1;33m[\u001b[0m\u001b[1;33m[\u001b[0m\u001b[1;36m1\u001b[0m\u001b[1;33m,\u001b[0m\u001b[1;36m2\u001b[0m\u001b[1;33m,\u001b[0m\u001b[1;36m3\u001b[0m\u001b[1;33m]\u001b[0m\u001b[1;33m]\u001b[0m\u001b[1;33m\u001b[0m\u001b[1;33m\u001b[0m\u001b[0m\n\u001b[0m",
      "\u001b[1;31mTypeError\u001b[0m: list indices must be integers or slices, not list"
     ]
    }
   ],
   "source": [
    "list_of_c = [10,20,30,40,50]\n",
    "list_of_c[[1,2,3]]"
   ]
  },
  {
   "cell_type": "code",
   "execution_count": 242,
   "metadata": {},
   "outputs": [
    {
     "data": {
      "text/plain": [
       "3"
      ]
     },
     "execution_count": 242,
     "metadata": {},
     "output_type": "execute_result"
    }
   ],
   "source": [
    "np.argmin([1,2,3,-1])"
   ]
  },
  {
   "cell_type": "code",
   "execution_count": 8,
   "metadata": {},
   "outputs": [
    {
     "ename": "NameError",
     "evalue": "name 'pop' is not defined",
     "output_type": "error",
     "traceback": [
      "\u001b[1;31m---------------------------------------------------------------------------\u001b[0m",
      "\u001b[1;31mNameError\u001b[0m                                 Traceback (most recent call last)",
      "\u001b[1;32m<ipython-input-8-9d2fd0333e01>\u001b[0m in \u001b[0;36m<module>\u001b[1;34m\u001b[0m\n\u001b[1;32m----> 1\u001b[1;33m \u001b[0mpop\u001b[0m\u001b[1;33m.\u001b[0m\u001b[0minitialize_population\u001b[0m\u001b[1;33m(\u001b[0m\u001b[0msize\u001b[0m \u001b[1;33m=\u001b[0m \u001b[1;36m10\u001b[0m\u001b[1;33m,\u001b[0m \u001b[0mboundary\u001b[0m \u001b[1;33m=\u001b[0m \u001b[1;33m[\u001b[0m\u001b[1;33m(\u001b[0m\u001b[1;33m-\u001b[0m\u001b[1;36m5\u001b[0m\u001b[1;33m,\u001b[0m \u001b[1;36m5\u001b[0m\u001b[1;33m,\u001b[0m \u001b[1;34m'float'\u001b[0m\u001b[1;33m)\u001b[0m\u001b[1;33m,\u001b[0m \u001b[1;33m(\u001b[0m\u001b[1;33m-\u001b[0m\u001b[1;36m5\u001b[0m\u001b[1;33m,\u001b[0m \u001b[1;36m5\u001b[0m\u001b[1;33m,\u001b[0m \u001b[1;34m'int'\u001b[0m\u001b[1;33m)\u001b[0m\u001b[1;33m]\u001b[0m\u001b[1;33m)\u001b[0m\u001b[1;33m\u001b[0m\u001b[1;33m\u001b[0m\u001b[0m\n\u001b[0m",
      "\u001b[1;31mNameError\u001b[0m: name 'pop' is not defined"
     ]
    }
   ],
   "source": [
    "pop.initialize_population(size = 10, boundary = [(-5, 5, 'float'), (-5, 5, 'int')])"
   ]
  },
  {
   "cell_type": "markdown",
   "metadata": {},
   "source": [
    "## Initialization"
   ]
  },
  {
   "cell_type": "code",
   "execution_count": 234,
   "metadata": {},
   "outputs": [
    {
     "name": "stdout",
     "output_type": "stream",
     "text": [
      "[  10  100 1000]\n"
     ]
    }
   ],
   "source": [
    "# initialize a three-dimensional chromosome\n",
    "c = Chromosome([10,100,1000], 42)\n",
    "print(c.values)"
   ]
  },
  {
   "cell_type": "code",
   "execution_count": 236,
   "metadata": {},
   "outputs": [
    {
     "ename": "AttributeError",
     "evalue": "'NoneType' object has no attribute 'fitness'",
     "output_type": "error",
     "traceback": [
      "\u001b[1;31m---------------------------------------------------------------------------\u001b[0m",
      "\u001b[1;31mAttributeError\u001b[0m                            Traceback (most recent call last)",
      "\u001b[1;32m<ipython-input-236-15260b4d2358>\u001b[0m in \u001b[0;36m<module>\u001b[1;34m\u001b[0m\n\u001b[1;32m----> 1\u001b[1;33m \u001b[0mc\u001b[0m\u001b[1;33m.\u001b[0m\u001b[0mfit\u001b[0m\u001b[1;33m(\u001b[0m\u001b[0mackley\u001b[0m\u001b[1;33m)\u001b[0m\u001b[1;33m.\u001b[0m\u001b[0mfitness\u001b[0m\u001b[1;33m\u001b[0m\u001b[1;33m\u001b[0m\u001b[0m\n\u001b[0m",
      "\u001b[1;31mAttributeError\u001b[0m: 'NoneType' object has no attribute 'fitness'"
     ]
    }
   ],
   "source": [
    "c.fit(ackley).fitness"
   ]
  },
  {
   "cell_type": "markdown",
   "metadata": {},
   "source": [
    "## Mutation"
   ]
  },
  {
   "cell_type": "code",
   "execution_count": 367,
   "metadata": {},
   "outputs": [
    {
     "name": "stdout",
     "output_type": "stream",
     "text": [
      "[1000  100   10]\n"
     ]
    }
   ],
   "source": [
    "# perform swap mutation\n",
    "c.mutate(method = 'swap')\n",
    "print(c.values)"
   ]
  },
  {
   "cell_type": "markdown",
   "metadata": {},
   "source": [
    "# Crossover"
   ]
  },
  {
   "cell_type": "code",
   "execution_count": 368,
   "metadata": {},
   "outputs": [
    {
     "data": {
      "text/plain": [
       "array([   1,    2, 1000])"
      ]
     },
     "execution_count": 368,
     "metadata": {},
     "output_type": "execute_result"
    }
   ],
   "source": [
    "c1 = Chromosome([10,100,1000])\n",
    "c2 = Chromosome([1,2,3])\n",
    "\n",
    "c1.crossover(c2, 'uniform')\n",
    "c1.values"
   ]
  },
  {
   "cell_type": "markdown",
   "metadata": {},
   "source": [
    "# Fitness"
   ]
  },
  {
   "cell_type": "code",
   "execution_count": 239,
   "metadata": {},
   "outputs": [
    {
     "data": {
      "text/plain": [
       "10.275757266411311"
      ]
     },
     "execution_count": 239,
     "metadata": {},
     "output_type": "execute_result"
    }
   ],
   "source": [
    "c3 = Chromosome([5,1,5])\n",
    "c3.fit(ackley)\n",
    "c3.fitness"
   ]
  }
 ],
 "metadata": {
  "kernelspec": {
   "display_name": "Python 3",
   "language": "python",
   "name": "python3"
  },
  "language_info": {
   "codemirror_mode": {
    "name": "ipython",
    "version": 3
   },
   "file_extension": ".py",
   "mimetype": "text/x-python",
   "name": "python",
   "nbconvert_exporter": "python",
   "pygments_lexer": "ipython3",
   "version": "3.8.5"
  }
 },
 "nbformat": 4,
 "nbformat_minor": 4
}
